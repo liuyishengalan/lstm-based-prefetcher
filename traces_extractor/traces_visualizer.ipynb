{
 "cells": [
  {
   "cell_type": "code",
   "execution_count": null,
   "metadata": {},
   "outputs": [],
   "source": [
    "# import pandas as pd\n",
    "# from bokeh.plotting import figure, show\n",
    "# from bokeh.io import output_file\n",
    "# from sklearn.preprocessing import LabelEncoder\n",
    "\n",
    "# data = pd.read_csv('traces.csv', names=['pc', 'delta_in'])\n",
    "\n",
    "# data['pc'] = data['pc'].astype(str)\n",
    "# data['delta_in'] = data['delta_in'].astype(str)\n",
    "\n",
    "# pc_encoder = LabelEncoder()\n",
    "# # delta_encoder = LabelEncoder()\n",
    "# data['pc_encoded'] = pc_encoder.fit_transform(data['pc'])\n",
    "# # data['delta_encoded'] = delta_encoder.fit_transform(data['delta_in'])\n",
    "\n",
    "# # print(pc_encoder.inverse_transform([223]))\n",
    "# p = figure(title=\"Encoded PC vs Delta Scatter Plot\", x_axis_label='Encoded ProgramCounter', y_axis_label='Delta', width=800, height=400)\n",
    "\n",
    "# p.circle(data['pc_encoded'], data['delta_in'], size=10, color=\"navy\", alpha=0.5)\n",
    "\n",
    "# output_file(\"scatter_encoded.html\")\n",
    "# show(p)\n"
   ]
  },
  {
   "cell_type": "code",
   "execution_count": null,
   "metadata": {},
   "outputs": [],
   "source": [
    "# import pandas as pd\n",
    "# from bokeh.plotting import figure, show\n",
    "# from bokeh.io import output_file\n",
    "# from sklearn.preprocessing import LabelEncoder\n",
    "\n",
    "# data = pd.read_csv('traces.csv', names=['pc', 'delta_in'])\n",
    "\n",
    "# data['pc'] = data['pc'].astype(str)\n",
    "# data['delta_in'] = data['delta_in'].astype(str)\n",
    "\n",
    "# pc_encoder = LabelEncoder()\n",
    "# data['pc_encoded'] = pc_encoder.fit_transform(data['pc'])\n",
    "\n",
    "# # print(pc_encoder.inverse_transform([223]))\n",
    "# p = figure(title=\"Encoded PC vs Delta Scatter Plot\", x_axis_label='Encoded ProgramCounter', y_axis_label='Delta', width=800, height=400)\n",
    "\n",
    "# p.circle(data['pc_encoded'], data['delta_in'], size=10, color=\"navy\", alpha=0.5)\n",
    "\n",
    "# output_file(\"scatter_encoded.html\")\n",
    "# show(p)\n"
   ]
  },
  {
   "cell_type": "code",
   "execution_count": 2,
   "metadata": {},
   "outputs": [
    {
     "name": "stderr",
     "output_type": "stream",
     "text": [
      "WARNING:bokeh.core.validation.check:W-1008 (PALETTE_LENGTH_FACTORS_MISMATCH): Palette length does not match number of factors: ['279', '227', '271', '103', '204', '183', '23', '200', '41', '186', '116', '230', '145', '63', '146', '252', '253', '254', '14', '178', '15', '177', '179', '22', '182', '16', '106', '261', '197', '38', '231', '42', '39', '198', '207', '47', '201', '223', '206', '46', '185', '266', '104', '259', '184', '17', '111', '205', '18', '199', '196', '37', '176', '180', '20', '19', '40', '195', '260', '13', '264', '105', '45', '10', '265', '181', '112', '267', '9', '21', '36', '110', '11', '175', '25', '12', '109'] will be assigned to `nan_color` gray\n"
     ]
    },
    {
     "name": "stderr",
     "output_type": "stream",
     "text": [
      "Start : This command cannot be run due to the error: The system cannot find the file specified.\n",
      "At line:1 char:1\n",
      "+ Start \"file:///home/yslalan/lstm-based-prefetcher/traces_extractor/sc ...\n",
      "+ ~~~~~~~~~~~~~~~~~~~~~~~~~~~~~~~~~~~~~~~~~~~~~~~~~~~~~~~~~~~~~~~~~~~~~\n",
      "    + CategoryInfo          : InvalidOperation: (:) [Start-Process], InvalidOperationException\n",
      "    + FullyQualifiedErrorId : InvalidOperationException,Microsoft.PowerShell.Commands.StartProcessCommand\n",
      " \n"
     ]
    }
   ],
   "source": [
    "import pandas as pd\n",
    "from sklearn.preprocessing import LabelEncoder\n",
    "from bokeh.palettes import Spectral11\n",
    "from bokeh.transform import factor_cmap\n",
    "from bokeh.plotting import figure, show\n",
    "from bokeh.io import output_file\n",
    "\n",
    "data = pd.read_csv('traces.csv', names=['pc', 'delta_in'])\n",
    "df = pd.DataFrame(data)\n",
    "df['pc'] = df['pc'].astype(str)\n",
    "\n",
    "# Encode the 'pc' column\n",
    "pc_encoder = LabelEncoder()\n",
    "df['pc_encoded'] = pc_encoder.fit_transform(df['pc'])\n",
    "\n",
    "df['pc_encoded'] = df['pc_encoded'].astype(str)\n",
    "\n",
    "# Create a color map based on unique PC encoded values\n",
    "palette = Spectral11 if len(df['pc_encoded'].unique()) <= 11 else factor_cmap('pc_encoded', palette='Viridis256', factors=df['pc_encoded'].unique().tolist())\n",
    "\n",
    "p = figure(title=\"Encoded PC vs Delta Scatter Plot\", x_axis_label='Encoded ProgramCounter', y_axis_label='Delta_in', width=800, height=400, background_fill_color=\"#fafafa\")\n",
    "\n",
    "# Customize the plot grid, axes, and tools\n",
    "p.grid.grid_line_color = \"white\"\n",
    "p.xaxis.axis_label_standoff = 12\n",
    "p.yaxis.axis_label_standoff = 12\n",
    "p.toolbar.autohide = True\n",
    "p.scatter('pc_encoded', 'delta_in', source=df, fill_color=palette, legend_field='pc_encoded', size=8)\n",
    "output_file(\"scatter_encoded.html\")\n",
    "show(p)\n"
   ]
  },
  {
   "cell_type": "code",
   "execution_count": null,
   "metadata": {},
   "outputs": [],
   "source": []
  }
 ],
 "metadata": {
  "kernelspec": {
   "display_name": "base",
   "language": "python",
   "name": "python3"
  },
  "language_info": {
   "codemirror_mode": {
    "name": "ipython",
    "version": 3
   },
   "file_extension": ".py",
   "mimetype": "text/x-python",
   "name": "python",
   "nbconvert_exporter": "python",
   "pygments_lexer": "ipython3",
   "version": "3.9.0"
  }
 },
 "nbformat": 4,
 "nbformat_minor": 2
}
