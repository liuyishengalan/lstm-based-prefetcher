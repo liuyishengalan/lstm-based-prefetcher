{
 "cells": [
  {
   "cell_type": "code",
   "execution_count": null,
   "metadata": {},
   "outputs": [],
   "source": [
    "# import pandas as pd\n",
    "# from bokeh.plotting import figure, show\n",
    "# from bokeh.io import output_file\n",
    "# from sklearn.preprocessing import LabelEncoder\n",
    "\n",
    "# data = pd.read_csv('traces.csv', names=['pc', 'delta_in'])\n",
    "\n",
    "# data['pc'] = data['pc'].astype(str)\n",
    "# data['delta_in'] = data['delta_in'].astype(str)\n",
    "\n",
    "# pc_encoder = LabelEncoder()\n",
    "# # delta_encoder = LabelEncoder()\n",
    "# data['pc_encoded'] = pc_encoder.fit_transform(data['pc'])\n",
    "# # data['delta_encoded'] = delta_encoder.fit_transform(data['delta_in'])\n",
    "\n",
    "# # print(pc_encoder.inverse_transform([223]))\n",
    "# p = figure(title=\"Encoded PC vs Delta Scatter Plot\", x_axis_label='Encoded ProgramCounter', y_axis_label='Delta', width=800, height=400)\n",
    "\n",
    "# p.circle(data['pc_encoded'], data['delta_in'], size=10, color=\"navy\", alpha=0.5)\n",
    "\n",
    "# output_file(\"scatter_encoded.html\")\n",
    "# show(p)\n"
   ]
  },
  {
   "cell_type": "code",
   "execution_count": null,
   "metadata": {},
   "outputs": [],
   "source": [
    "# import pandas as pd\n",
    "# from bokeh.plotting import figure, show\n",
    "# from bokeh.io import output_file\n",
    "# from sklearn.preprocessing import LabelEncoder\n",
    "\n",
    "# data = pd.read_csv('traces.csv', names=['pc', 'delta_in'])\n",
    "\n",
    "# data['pc'] = data['pc'].astype(str)\n",
    "# data['delta_in'] = data['delta_in'].astype(str)\n",
    "\n",
    "# pc_encoder = LabelEncoder()\n",
    "# data['pc_encoded'] = pc_encoder.fit_transform(data['pc'])\n",
    "\n",
    "# # print(pc_encoder.inverse_transform([223]))\n",
    "# p = figure(title=\"Encoded PC vs Delta Scatter Plot\", x_axis_label='Encoded ProgramCounter', y_axis_label='Delta', width=800, height=400)\n",
    "\n",
    "# p.circle(data['pc_encoded'], data['delta_in'], size=10, color=\"navy\", alpha=0.5)\n",
    "\n",
    "# output_file(\"scatter_encoded.html\")\n",
    "# show(p)\n"
   ]
  },
  {
   "cell_type": "code",
   "execution_count": null,
   "metadata": {},
   "outputs": [],
   "source": [
    "import pandas as pd\n",
    "from sklearn.preprocessing import LabelEncoder\n",
    "from bokeh.palettes import Spectral11\n",
    "from bokeh.transform import factor_cmap\n",
    "from bokeh.plotting import figure, show\n",
    "\n",
    "data = pd.read_csv('traces.csv', names=['pc', 'delta_in'])\n",
    "df = pd.DataFrame(data)\n",
    "df['pc'] = df['pc'].astype(str)\n",
    "\n",
    "# Encode the 'pc' column\n",
    "pc_encoder = LabelEncoder()\n",
    "df['pc_encoded'] = pc_encoder.fit_transform(df['pc'])\n",
    "\n",
    "df['pc_encoded'] = df['pc_encoded'].astype(str)\n",
    "\n",
    "# Create a color map based on unique PC encoded values\n",
    "palette = Spectral11 if len(df['pc_encoded'].unique()) <= 11 else factor_cmap('pc_encoded', palette='Viridis256', factors=df['pc_encoded'].unique().tolist())\n",
    "\n",
    "p = figure(title=\"Encoded PC vs Delta Scatter Plot\", x_axis_label='Encoded ProgramCounter', y_axis_label='Delta_in', width=800, height=400, background_fill_color=\"#fafafa\")\n",
    "\n",
    "# Customize the plot grid, axes, and tools\n",
    "p.grid.grid_line_color = \"white\"\n",
    "p.xaxis.axis_label_standoff = 12\n",
    "p.yaxis.axis_label_standoff = 12\n",
    "p.toolbar.autohide = True\n",
    "p.scatter('pc_encoded', 'delta_in', source=df, fill_color=palette, legend_field='pc_encoded', size=8)\n",
    "\n",
    "show(p)\n"
   ]
  },
  {
   "cell_type": "code",
   "execution_count": null,
   "metadata": {},
   "outputs": [],
   "source": []
  }
 ],
 "metadata": {
  "kernelspec": {
   "display_name": "base",
   "language": "python",
   "name": "python3"
  },
  "language_info": {
   "codemirror_mode": {
    "name": "ipython",
    "version": 3
   },
   "file_extension": ".py",
   "mimetype": "text/x-python",
   "name": "python",
   "nbconvert_exporter": "python",
   "pygments_lexer": "ipython3",
   "version": "3.11.5"
  }
 },
 "nbformat": 4,
 "nbformat_minor": 2
}
