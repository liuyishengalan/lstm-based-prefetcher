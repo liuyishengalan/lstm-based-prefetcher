{
 "cells": [
  {
   "cell_type": "code",
   "execution_count": null,
   "metadata": {},
   "outputs": [],
   "source": [
    "# import pandas as pd\n",
    "# from bokeh.plotting import figure, show\n",
    "# from bokeh.io import output_file\n",
    "\n",
    "# data = pd.read_csv('traces.csv', names=['pc', 'delta_in'])\n",
    "\n",
    "# df = pd.DataFrame(data)\n",
    "\n",
    "# p = figure(title=\"PC vs Delta Scatter Plot\", x_axis_label='ProgramCounter', y_axis_label='Delta_in', width=800, height=400)\n",
    "\n",
    "# p.circle(df['pc'], df['delta_in'], size=10, color=\"navy\", alpha=0.5)\n",
    "\n",
    "# output_file(\"scatter.html\")\n",
    "\n",
    "# show(p)"
   ]
  },
  {
   "cell_type": "code",
   "execution_count": null,
   "metadata": {},
   "outputs": [],
   "source": [
    "import pandas as pd\n",
    "from bokeh.plotting import figure, show\n",
    "from bokeh.io import output_file\n",
    "from sklearn.preprocessing import LabelEncoder\n",
    "\n",
    "# Load your data\n",
    "data = pd.read_csv('traces.csv', names=['pc', 'delta_in'], nrows = 5000000)\n",
    "\n",
    "# Convert all entries in 'pc' and 'delta_in' to string, handling NaNs\n",
    "data['pc'] = data['pc'].astype(str)\n",
    "data['delta_in'] = data['delta_in'].astype(str)\n",
    "\n",
    "# Initialize label encoders\n",
    "pc_encoder = LabelEncoder()\n",
    "delta_encoder = LabelEncoder()\n",
    "\n",
    "# Fit and transform the data with label encoders\n",
    "data['pc_encoded'] = pc_encoder.fit_transform(data['pc'])\n",
    "data['delta_encoded'] = delta_encoder.fit_transform(data['delta_in'])\n",
    "\n",
    "# Create a new plot with a title and axis labels\n",
    "p = figure(title=\"Encoded PC vs Delta Scatter Plot\", x_axis_label='Encoded ProgramCounter', y_axis_label='Encoded Delta_in', width=800, height=400)\n",
    "\n",
    "# Add a scatter renderer with circle glyphs\n",
    "p.circle(data['pc_encoded'], data['delta_encoded'], size=10, color=\"navy\", alpha=0.5)\n",
    "\n",
    "# Specify the name of the output file and show the result\n",
    "output_file(\"scatter_encoded.html\")\n",
    "show(p)\n"
   ]
  }
 ],
 "metadata": {
  "kernelspec": {
   "display_name": "base",
   "language": "python",
   "name": "python3"
  },
  "language_info": {
   "codemirror_mode": {
    "name": "ipython",
    "version": 3
   },
   "file_extension": ".py",
   "mimetype": "text/x-python",
   "name": "python",
   "nbconvert_exporter": "python",
   "pygments_lexer": "ipython3",
   "version": "3.11.5"
  }
 },
 "nbformat": 4,
 "nbformat_minor": 2
}
